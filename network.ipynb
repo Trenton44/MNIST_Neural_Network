{
 "cells": [
  {
   "cell_type": "code",
   "execution_count": 109,
   "metadata": {},
   "outputs": [],
   "source": [
    "import csv\n",
    "import math\n",
    "from random import random"
   ]
  },
  {
   "cell_type": "code",
   "execution_count": 110,
   "metadata": {},
   "outputs": [],
   "source": [
    "train_data = csv.reader(open(\"mnist_test.csv\", mode=\"r\"))\n",
    "def GetSample(data):\n",
    "    length = len(data)\n",
    "    for i in range(length):\n",
    "        data[i] = float(data[i]) / 255.0\n",
    "    return data"
   ]
  },
  {
   "cell_type": "code",
   "execution_count": 111,
   "metadata": {},
   "outputs": [],
   "source": [
    "class Network:\n",
    "    def __init__(self, sizes) -> None:\n",
    "        self.cost_array = []\n",
    "        self.output_layer = Network_Layer(sizes[len(sizes) - 1], sizes[len(sizes) - 2])\n",
    "        self.hidden_layers = []\n",
    "        for i in range(1, len(sizes) - 1):\n",
    "            self.hidden_layers.append(Network_Layer(sizes[i], sizes[i - 1]))\n",
    "        self.layers = [ *self.hidden_layers, self.output_layer ]\n",
    "    \n",
    "    def forward_pass(self, input_data):\n",
    "        print(\"Beginning forward pass...\")\n",
    "        layer_output = input_data\n",
    "        for layer in self.layers:\n",
    "            layer_output = layer.processData(layer_output)\n",
    "            print(layer_output)\n",
    "        return self.SoftMax(layer_output)\n",
    "    \n",
    "    def backward_pass(self):\n",
    "        pass\n",
    "\n",
    "    def SoftMax(self, input_data):\n",
    "        max = input_data[0]\n",
    "        for neuron in input_data:\n",
    "            max = neuron if neuron > max else max\n",
    "        \n",
    "        exponented_layer = []\n",
    "        for neuron in input_data:\n",
    "            exponented_layer.append(math.exp(neuron - max))\n",
    "\n",
    "        Layer_Sum = sum(exponented_layer)\n",
    "\n",
    "        normalized_layer = []\n",
    "        for neuron in exponented_layer:\n",
    "            normalized_layer.append(neuron/Layer_Sum)\n",
    "        return normalized_layer\n",
    "\n",
    "    def UpdateNetworkCost(self, answer):\n",
    "        neurons = self.output_layer.neurons\n",
    "        for i in range(len(neurons)):\n",
    "            value = 1.00 if answer == i else 0.00\n",
    "            self.cost_array.append((neurons[i].last_output - value) ** 2)\n",
    "        return sum(self.cost_array)\n",
    "\n",
    "            \n"
   ]
  },
  {
   "cell_type": "code",
   "execution_count": 112,
   "metadata": {},
   "outputs": [],
   "source": [
    "class Network_Layer:\n",
    "    def __init__(self, num_neurons, input_size) -> None:\n",
    "        self.weights = []\n",
    "        self.neurons = []\n",
    "        self.connections = input_size\n",
    "        for i in range(num_neurons):\n",
    "            self.weights.append(self.GenerateWeights())\n",
    "            self.neurons.append(Neuron())\n",
    "            \n",
    "    def GenerateWeights(self):\n",
    "        weights = []\n",
    "        for i in range(self.connections):\n",
    "            weights.append(10.0*random()-5.0)\n",
    "        return weights\n",
    "\n",
    "    def processData(self, input_data):\n",
    "        outputs = []\n",
    "        for i in range(len(self.neurons)):\n",
    "            self.neurons[i].ProcessInputs(input_data, self.weights[i])\n",
    "            outputs.append(self.neurons[i].last_output)\n",
    "        self.last_output = outputs\n",
    "        return self.last_output\n"
   ]
  },
  {
   "cell_type": "code",
   "execution_count": 113,
   "metadata": {},
   "outputs": [],
   "source": [
    "class Neuron:\n",
    "    def __init__(self) -> None:\n",
    "        self.bias = 10.0*random()-5.0\n",
    "    def ProcessInputs(self, input_layer, network_weights):\n",
    "        total = 0\n",
    "        for i in range(len(network_weights)):\n",
    "            total += input_layer[i] * network_weights[i]\n",
    "        total = self.Activation_Sigmoid(total + self.bias)\n",
    "        self.last_output = total\n",
    "        return self.last_output\n",
    "    \n",
    "    def Activation_ReLU(self, input):\n",
    "        return input if input > 0 else 0\n",
    "\n",
    "    def Activation_Sigmoid(self, input):\n",
    "        return 1.00/(1.00+math.exp(-input))\n"
   ]
  },
  {
   "cell_type": "code",
   "execution_count": 114,
   "metadata": {},
   "outputs": [
    {
     "name": "stdout",
     "output_type": "stream",
     "text": [
      "Neurons:  16 Inputs:  784\n",
      "Neurons:  16 Inputs:  16\n",
      "Neurons:  10 Inputs:  16\n",
      "Beginning forward pass...\n",
      "[0.9999999999999827, 1.2864738853460821e-06, 7.915257636154296e-06, 0.9999993465832671, 0.00012493581440316284, 5.410132823277039e-10, 0.9999992762075344, 0.9999993145946385, 2.6726585015399177e-07, 0.13224431344387508, 7.42458247654294e-07, 0.00012871223194438965, 0.9975582432053313, 1.1668070104973565e-11, 0.002925247643187989, 0.27139851270351467]\n",
      "[0.0012731969743574284, 0.9992442516143283, 0.887120853715098, 0.9774273568940416, 0.00016718776504178303, 0.9672786589228813, 0.22152530821726255, 0.9992511726264997, 0.9989211145066419, 0.999946658504278, 1.6765710445721773e-05, 0.9893513185037487, 0.18479868311370168, 7.14987912373912e-06, 0.7792167947118078, 0.5697610112454004]\n",
      "[0.919109686793442, 0.04045929332316926, 0.44319275187127904, 5.456373929971393e-05, 0.9999996604051428, 0.9868115932105235, 0.0006937177176154371, 0.9995969126037769, 1.1298658461367486e-06, 0.0019307412459524703]\n",
      "[0.14553208574333829, 0.06044574521582729, 0.09042128090644307, 0.05805213347394883, 0.1577933959041424, 0.1557260679890871, 0.05808924958620027, 0.15772985775665543, 0.05804903160646821, 0.05816115181788912]\n",
      "1.0\n",
      "4.01581402706159\n"
     ]
    }
   ],
   "source": [
    "network = Network(sizes=[784, 16, 16, 10])\n",
    "for layer in network.layers:\n",
    "    print(\"Neurons: \", len(layer.neurons), \"Inputs: \", len(layer.weights[0]))\n",
    "\n",
    "data = GetSample(train_data.__next__())\n",
    "processed = network.forward_pass(data[1:])\n",
    "print(processed)\n",
    "print(sum(processed))\n",
    "print(network.UpdateNetworkCost(data[0]))"
   ]
  }
 ],
 "metadata": {
  "kernelspec": {
   "display_name": "Python 3",
   "language": "python",
   "name": "python3"
  },
  "language_info": {
   "codemirror_mode": {
    "name": "ipython",
    "version": 3
   },
   "file_extension": ".py",
   "mimetype": "text/x-python",
   "name": "python",
   "nbconvert_exporter": "python",
   "pygments_lexer": "ipython3",
   "version": "3.8.10"
  },
  "orig_nbformat": 4,
  "vscode": {
   "interpreter": {
    "hash": "916dbcbb3f70747c44a77c7bcd40155683ae19c65e1c03b4aa3499c5328201f1"
   }
  }
 },
 "nbformat": 4,
 "nbformat_minor": 2
}
