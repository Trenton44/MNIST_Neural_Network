{
 "cells": [
  {
   "cell_type": "code",
   "execution_count": 117,
   "metadata": {},
   "outputs": [],
   "source": [
    "import numpy\n",
    "import scipy.special\n",
    "import csv\n",
    "\n",
    "numpy.random.seed(0)\n",
    "INPUT_LAYER_SIZE = 785 # 28x28 pixel image = 785 pixels\n",
    "OUTPUT_LAYER_SIZE = 9 #digits 0-9\n",
    "HIDDEN_LAYER_SIZE = 16 #arbitrary"
   ]
  },
  {
   "cell_type": "code",
   "execution_count": 118,
   "metadata": {},
   "outputs": [],
   "source": [
    "train_file = open(\"mnist_test.csv\", mode=\"r\")\n",
    "train_data = csv.reader(train_file)"
   ]
  },
  {
   "cell_type": "code",
   "execution_count": 119,
   "metadata": {},
   "outputs": [],
   "source": [
    "class Network:\n",
    "    def __init__(self, num_inputs, num_neurons):\n",
    "        self.activation_ReLU = lambda x: numpy.maximum(0, x)\n",
    "        self.process = lambda inputs: self.activation_ReLU(numpy.dot(inputs,self.weights) + self.biases)\n",
    "        self.weights = 0.10 * numpy.random.randn(num_inputs, num_neurons)\n",
    "        self.biases = numpy.zeros((1, num_neurons))"
   ]
  },
  {
   "cell_type": "code",
   "execution_count": 120,
   "metadata": {},
   "outputs": [],
   "source": [
    "def SoftMax(inputs_layer):\n",
    "    max_num = numpy.max(inputs_layer, axis=1, keepdims=True)\n",
    "    exponented = numpy.exp(inputs_layer - max_num)\n",
    "    normalized = exponented / numpy.sum(exponented, axis=1, keepdims=True)\n",
    "    return normalized\n"
   ]
  },
  {
   "cell_type": "code",
   "execution_count": 121,
   "metadata": {},
   "outputs": [],
   "source": [
    "first_layer = Network(INPUT_LAYER_SIZE, HIDDEN_LAYER_SIZE)\n",
    "second_layer = Network(HIDDEN_LAYER_SIZE, HIDDEN_LAYER_SIZE)\n",
    "output_layer = Network(HIDDEN_LAYER_SIZE, OUTPUT_LAYER_SIZE)"
   ]
  },
  {
   "cell_type": "code",
   "execution_count": 130,
   "metadata": {},
   "outputs": [
    {
     "name": "stdout",
     "output_type": "stream",
     "text": [
      "[[1.02374293e-20 1.87684377e-26 3.76707049e-09 2.06015612e-24\n",
      "  4.81499866e-21 1.87684377e-26 1.47913924e-12 1.42463024e-11\n",
      "  9.99999996e-01]]\n"
     ]
    }
   ],
   "source": [
    "output_data = output_layer.process(\n",
    "    second_layer.process(\n",
    "        first_layer.process(\n",
    "            numpy.array(train_data.__next__(), float)\n",
    "            )\n",
    "        )\n",
    "    )\n",
    "final_result = SoftMax(output_data)\n",
    "print(final_result)"
   ]
  }
 ],
 "metadata": {
  "kernelspec": {
   "display_name": "Python 3",
   "language": "python",
   "name": "python3"
  },
  "language_info": {
   "codemirror_mode": {
    "name": "ipython",
    "version": 3
   },
   "file_extension": ".py",
   "mimetype": "text/x-python",
   "name": "python",
   "nbconvert_exporter": "python",
   "pygments_lexer": "ipython3",
   "version": "3.8.10"
  },
  "orig_nbformat": 4,
  "vscode": {
   "interpreter": {
    "hash": "916dbcbb3f70747c44a77c7bcd40155683ae19c65e1c03b4aa3499c5328201f1"
   }
  }
 },
 "nbformat": 4,
 "nbformat_minor": 2
}
